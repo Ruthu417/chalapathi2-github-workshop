{
 "cells": [
  {
   "cell_type": "markdown",
   "metadata": {},
   "source": [
    "### Version Control system\n",
    "- centralized\n",
    "    - Centralized Version Contol system(CVS)\n",
    "    - Ex:CVS and Apache SubVersion(SVN)\n",
    "    - Loss of data,less accuracy,time consuming and difficult to track\n",
    "- distributed\n",
    "    - Git,Mercurial & Baazaar\n",
    "    - More accuracy, more accurate\n",
    "    \n",
    "- Inorder to work with source code/project in companies the employess have to collectively do the project"
   ]
  },
  {
   "cell_type": "markdown",
   "metadata": {},
   "source": [
    "### Git\n",
    "- It is a free & open source disrtibuted version control system designed to handle everything from small to very large projects with speed and efficiency.\n",
    "- For s/w eng version control system is a class of systems for managing the programs, documents and files in computer/local machine.\n",
    "- which is a source code management system\n",
    "- That let you manage and keep track of your source code history.\n",
    "- Installation process\n",
    "    - you can download & install from official website \"git-scm.com\"\n",
    "    - where scm stands for source code management\n",
    "- **Basic git commands**\n",
    "    - git --version\n",
    "        - tells the version of git\n",
    "    - git config --global user.name \"username\"  or git config user.name \"name\"\n",
    "    - git config --global user.email \"mail_id\" or git config user.email \"mail_id\"\n",
    "        - you have to tell the git who you are globally.\n",
    "    - git config user.name(enter)\n",
    "    - gt confir user.email(enter)\n",
    "        - this will check the configured user(i.e., who is making changes and accessing"
   ]
  },
  {
   "cell_type": "markdown",
   "metadata": {},
   "source": [
    "### Working with git\n",
    "- create sample folder\n",
    "    - sample\n",
    "    - git init(Initiaze the git here)\n",
    "        - you will get .git hidden file\n",
    "    - touch index.html\n",
    "        - it will create the index.html file.\n",
    "        - **touch** is the command to create a file\n",
    "    - touch aboutus.html\n",
    "    - touch contactus.html\n",
    "        * these files also will be created\n",
    "    - git status\n",
    "        - checks the status of git.\n",
    "            - commits or no commits\n",
    "    - cat index.html\n",
    "        - **cat**:command to see the content in that file so, it will display the content in that index.html file\n",
    "- if you think you reached the place where you have to store the files(staging area), then you need to add the above files to the staging area.\n",
    "- *inorder to add these files,*\n",
    "    - git add filename:\n",
    "        - git add index.html(single)\n",
    "    - mutliple files(separate them by space)\n",
    "        - git add index.html aboutus.html contactus.html contactus.htm;\n",
    "    - all the files in that pwd\n",
    "        - git add .\n",
    "    - git rm --cached filename\n",
    "        - git rm --cached contactus.htm;\n",
    "        - remove the file if you want to make changes\n",
    "    - git status\n",
    "        - check the status above file will be removed\n",
    "* make the changes in the file and then add all the files, finally check the status of the git\n",
    "\n",
    "    - git commit -m \"message\"\n",
    "        - git commit -m \"all the files were committed\"\n",
    "        - files will be moved to the repository after commit only\n",
    "- SHA key\n",
    "  - 40 char length id will be created\n",
    "  - SHA stands for \"Secure Hash Algorithm\" \n",
    "  - it is present at first of git log details\n",
    "    \n",
    "  - **git log**\n",
    "      - git log command displays configured user details(user details&time) and why this user has made a commit(commit message)\n",
    "  - A repository have as many no.of commits they have"
   ]
  },
  {
   "cell_type": "markdown",
   "metadata": {},
   "source": [
    "If you want to add more and more files the process is same for all<br>\n",
    "after adding the new files later after commnits\n",
    "- git add .\n",
    "- git commit -m \"commit message\"\n",
    "- git log(checks how many commits done til yet)<br>\n",
    "\n",
    "**after doing 3 to 4 commits** \n",
    "- if you want to be give the code present in the second commit(you can say 2nd version of the project) file \n",
    "    - git log --oneline\n",
    "        - gives the all commits details\n",
    "    - now you need to goback to the version you want\n",
    "        - copy the 7(actually 40)SHA character beside of the version\n",
    "        - git checkout 410bda6(7 char key)\n",
    "            - but if you use this your next files can not be seen as committed.(HEAD) will be on 2nd commit only(actually you came back to 2nd version)\n",
    "        - if you want to comeback again\n",
    "            - git checkout master"
   ]
  },
  {
   "cell_type": "markdown",
   "metadata": {},
   "source": [
    "### Solution2"
   ]
  },
  {
   "cell_type": "markdown",
   "metadata": {},
   "source": [
    "- git checkout HEAD~1\n",
    "    - digit represents the steps you want to goback\n",
    "- git checkout master\n",
    "    - you will be directed to origin"
   ]
  },
  {
   "cell_type": "markdown",
   "metadata": {},
   "source": [
    "# git hub\n",
    "- we will use git hub to host our project\n",
    "- it provides the access control and collaborative features such as task management,bug tracking, feature requires\n",
    "    - create a new repository in githubwith the same name in your local machine without readme file\n",
    "    - copy the url of repository available in github\n",
    "    - copied link is called as **remote**\n",
    "    - git remote\n",
    "        - command to see the previously added remotes\n",
    "    - git remote add variable name link\n",
    "        - git remote add sample https://github.com/Ruthu417/sample.git\n",
    "        - now check git remote(you will see sample file there) as added now itself\n",
    "    - git push sample master\n",
    "        - sample is responsible for that link(changes too)\n",
    "        - master branch of code to master branch of remote repository\n",
    "    - the commits what we did in the sample are synced to remote repository so that here we have 3 commits"
   ]
  },
  {
   "cell_type": "markdown",
   "metadata": {},
   "source": [
    "### Working with remote repository\n",
    "- rename,edit&delete\n",
    "    - if remote is not there, then add\n",
    "    - git add remote resume https://github.com/Ruthu417/resume.git\n",
    "    - Renaming the remote repository\n",
    "        - ex: git remote rename old new\n",
    "        - git remote rename resume new_resume\n",
    "            - you will see renamed repository\n",
    "    - Removing the repository\n",
    "        - git remote remove new_resume\n",
    "        - git remote\n",
    "    - Clone/download any public file\n",
    "        - git clone https://github.com/Ruthu417/Ruthu417.github.io.git\n",
    "        - downloaded & extacted automatically\n",
    "        - cd Ruthu417.github.io\n",
    "            - git rev-list --count HEAD\n",
    "                - counts the no.of commits in that repository"
   ]
  },
  {
   "cell_type": "markdown",
   "metadata": {},
   "source": [
    "### BitBucket\n",
    "- similar to github you can also store files in bitbucket\n",
    "- All the repositories in this are private by default"
   ]
  },
  {
   "cell_type": "markdown",
   "metadata": {},
   "source": [
    "### Branches,pull requests & pages\n",
    "- git branch\n",
    "    - gives the no.of branches in the project\n",
    "- add new branch\n",
    "    - git branch branch_name\n",
    "    - ex: git branch feature\n",
    "       - as soon as executing this cmd, the code in master branch will be copied into new one\n",
    "- now check branches using command \"git branch\"\n",
    "    - now you are in master branch, if you want to switch to feature branch\n",
    "      - git checkout feature (switched to feature branch)\n",
    "    - git branch -d feature\n",
    "        - deteles the feature branch\n",
    "        \n",
    "- **Pull requests**\n",
    "    - git clone url(downloading file:ex:multidimensions)\n",
    "    - git branch\n",
    "    - git branch feature\n",
    "    - git checkout feature\n",
    "    - touch file4.txt\n",
    "    - echo \"new content in this file\"\n",
    "    - git add .\n",
    "    - git commit -m \"feature.txt added\"\n",
    "    - git remote\n",
    "    - git push remotename feature\n",
    "    "
   ]
  },
  {
   "cell_type": "markdown",
   "metadata": {},
   "source": [
    "## Github pages"
   ]
  },
  {
   "cell_type": "code",
   "execution_count": 2,
   "metadata": {},
   "outputs": [
    {
     "ename": "SyntaxError",
     "evalue": "invalid syntax (<ipython-input-2-3a3b6dd7b840>, line 17)",
     "output_type": "error",
     "traceback": [
      "\u001b[1;36m  File \u001b[1;32m\"<ipython-input-2-3a3b6dd7b840>\"\u001b[1;36m, line \u001b[1;32m17\u001b[0m\n\u001b[1;33m    git log --oneline --reverse\u001b[0m\n\u001b[1;37m          ^\u001b[0m\n\u001b[1;31mSyntaxError\u001b[0m\u001b[1;31m:\u001b[0m invalid syntax\n"
     ]
    }
   ],
   "source": [
    "git --version\n",
    "''' git init\n",
    "git config user.name\n",
    "git config user.email '''\n",
    "#Process of adding files and commits\n",
    "''' git add file\n",
    "git add .\n",
    "git commit -m \"commit message\"\n",
    "git status\n",
    "git log\n",
    "git log --oneline '''\n",
    "# if 3 or more commits were done\n",
    "''' git checkout SHA key(7 char length) '''\n",
    "#renaming the commit message\n",
    "''' git commit --amend -m \"new message\" '''\n",
    "# reversing the git order\n",
    "git log --oneline --reverse\n",
    "\n",
    "#delete the single commit\n",
    "git reset --hard HEAD\n",
    "# multiple commits\n",
    "git reset --hard HEAD~2"
   ]
  },
  {
   "cell_type": "code",
   "execution_count": null,
   "metadata": {},
   "outputs": [],
   "source": []
  }
 ],
 "metadata": {
  "kernelspec": {
   "display_name": "Python 3",
   "language": "python",
   "name": "python3"
  },
  "language_info": {
   "codemirror_mode": {
    "name": "ipython",
    "version": 3
   },
   "file_extension": ".py",
   "mimetype": "text/x-python",
   "name": "python",
   "nbconvert_exporter": "python",
   "pygments_lexer": "ipython3",
   "version": "3.7.4"
  }
 },
 "nbformat": 4,
 "nbformat_minor": 2
}
